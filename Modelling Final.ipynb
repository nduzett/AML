{
 "cells": [
  {
   "cell_type": "markdown",
   "metadata": {},
   "source": [
    "# Modelling\n",
    "Our classes (winner, loser) are perfectly balanced, meaning accuracy is a good way to see how well we've done. For completion, however, we include precision, recall, and F1. "
   ]
  },
  {
   "cell_type": "code",
   "execution_count": 96,
   "metadata": {},
   "outputs": [],
   "source": [
    "import numpy as np\n",
    "import pandas as pd\n",
    "\n",
    "from sklearn.model_selection import cross_val_score\n",
    "from sklearn.metrics import precision_recall_fscore_support\n",
    "from sklearn.metrics import accuracy_score\n",
    "from sklearn.metrics import confusion_matrix\n",
    "from sklearn.model_selection import GridSearchCV\n",
    "import pprint\n",
    "\n",
    "# Model imports\n",
    "from sklearn.svm import LinearSVC\n",
    "from sklearn.naive_bayes import GaussianNB\n",
    "from sklearn.linear_model import LogisticRegressionCV\n",
    "from sklearn.neighbors import KNeighborsClassifier\n",
    "from sklearn.ensemble import RandomForestClassifier\n",
    "from xgboost import XGBClassifier\n",
    "from sklearn.ensemble import GradientBoostingClassifier\n",
    "\n",
    "#Suppressing warnings\n",
    "import warnings\n",
    "warnings.filterwarnings(\"ignore\")\n"
   ]
  },
  {
   "cell_type": "code",
   "execution_count": 97,
   "metadata": {},
   "outputs": [],
   "source": [
    "X = pd.read_csv(\"/Users/Neil/Desktop/X.csv\")\n",
    "y = pd.read_csv(\"/Users/Neil/Desktop/y.csv\")"
   ]
  },
  {
   "cell_type": "code",
   "execution_count": 98,
   "metadata": {},
   "outputs": [],
   "source": [
    "del X['f_Seed_region'], X['s_Seed_region'], X['WTeamID'], X['LTeamID'], X['Season']"
   ]
  },
  {
   "cell_type": "code",
   "execution_count": 99,
   "metadata": {},
   "outputs": [
    {
     "data": {
      "text/plain": [
       "(981, 44)"
      ]
     },
     "execution_count": 99,
     "metadata": {},
     "output_type": "execute_result"
    }
   ],
   "source": [
    "X.shape"
   ]
  },
  {
   "cell_type": "code",
   "execution_count": 100,
   "metadata": {},
   "outputs": [],
   "source": [
    "#Creating train and test data\n",
    "X_train = X[:713]\n",
    "y_train = y[:713]\n",
    "X_test = X[713:]\n",
    "y_test = y[713:]"
   ]
  },
  {
   "cell_type": "code",
   "execution_count": 101,
   "metadata": {},
   "outputs": [
    {
     "data": {
      "text/plain": [
       "GradientBoostingClassifier(criterion='friedman_mse', init=None,\n",
       "              learning_rate=0.1, loss='deviance', max_depth=3,\n",
       "              max_features=None, max_leaf_nodes=None,\n",
       "              min_impurity_decrease=0.0, min_impurity_split=None,\n",
       "              min_samples_leaf=1, min_samples_split=2,\n",
       "              min_weight_fraction_leaf=0.0, n_estimators=100,\n",
       "              presort='auto', random_state=None, subsample=1.0, verbose=0,\n",
       "              warm_start=False)"
      ]
     },
     "execution_count": 101,
     "metadata": {},
     "output_type": "execute_result"
    }
   ],
   "source": [
    "model_svm = LinearSVC()\n",
    "model_gnb = GaussianNB()\n",
    "model_lrc = LogisticRegressionCV()\n",
    "model_knn = KNeighborsClassifier()\n",
    "model_rfc = RandomForestClassifier()\n",
    "model_xgb = XGBClassifier()\n",
    "model_gbc = GradientBoostingClassifier()\n",
    "\n",
    "model_svm.fit(X_train,y_train)\n",
    "model_gnb.fit(X_train,y_train)\n",
    "model_lrc.fit(X_train,y_train)\n",
    "model_knn.fit(X_train,y_train)\n",
    "model_rfc.fit(X_train,y_train)\n",
    "model_xgb.fit(X_train,y_train)\n",
    "model_gbc.fit(X_train,y_train)"
   ]
  },
  {
   "cell_type": "code",
   "execution_count": 102,
   "metadata": {},
   "outputs": [],
   "source": [
    "svm_pred = model_svm.predict(X_test)\n",
    "gnb_pred = model_gnb.predict(X_test)\n",
    "lrc_pred = model_lrc.predict(X_test)\n",
    "knn_pred = model_knn.predict(X_test)\n",
    "rfc_pred = model_rfc.predict(X_test)\n",
    "xgb_pred = model_xgb.predict(X_test)\n",
    "gbc_pred = model_gbc.predict(X_test)"
   ]
  },
  {
   "cell_type": "code",
   "execution_count": 103,
   "metadata": {},
   "outputs": [],
   "source": [
    "svm_preds = pd.DataFrame(svm_pred)\n",
    "gnb_preds = pd.DataFrame(gnb_pred)\n",
    "lrc_preds = pd.DataFrame(lrc_pred)\n",
    "knn_preds = pd.DataFrame(knn_pred)\n",
    "rfc_preds = pd.DataFrame(rfc_pred)\n",
    "xgb_preds = pd.DataFrame(xgb_pred)\n",
    "gbc_preds = pd.DataFrame(gbc_pred)"
   ]
  },
  {
   "cell_type": "code",
   "execution_count": 104,
   "metadata": {},
   "outputs": [
    {
     "name": "stdout",
     "output_type": "stream",
     "text": [
      "SVM test acc: 0.5111940298507462\n"
     ]
    }
   ],
   "source": [
    "print(\"SVM test acc: {}\".format(accuracy_score(y_test, svm_preds)))"
   ]
  },
  {
   "cell_type": "code",
   "execution_count": 105,
   "metadata": {},
   "outputs": [
    {
     "name": "stdout",
     "output_type": "stream",
     "text": [
      "Gaussian NB test acc: 0.6082089552238806\n"
     ]
    }
   ],
   "source": [
    "print(\"Gaussian NB test acc: {}\".format(accuracy_score(y_test, gnb_preds)))"
   ]
  },
  {
   "cell_type": "code",
   "execution_count": 106,
   "metadata": {},
   "outputs": [
    {
     "name": "stdout",
     "output_type": "stream",
     "text": [
      "Logistic Regression test acc: 0.585820895522388\n"
     ]
    }
   ],
   "source": [
    "print(\"Logistic Regression test acc: {}\".format(accuracy_score(y_test, lrc_preds)))"
   ]
  },
  {
   "cell_type": "code",
   "execution_count": 107,
   "metadata": {},
   "outputs": [
    {
     "name": "stdout",
     "output_type": "stream",
     "text": [
      "K-Nearest Neighbors test acc: 0.5074626865671642\n"
     ]
    }
   ],
   "source": [
    "print(\"K-Nearest Neighbors test acc: {}\".format(accuracy_score(y_test, knn_preds)))"
   ]
  },
  {
   "cell_type": "code",
   "execution_count": 108,
   "metadata": {},
   "outputs": [
    {
     "name": "stdout",
     "output_type": "stream",
     "text": [
      "Random Forest test acc: 0.5410447761194029\n"
     ]
    }
   ],
   "source": [
    "print(\"Random Forest test acc: {}\".format(accuracy_score(y_test, rfc_preds)))"
   ]
  },
  {
   "cell_type": "code",
   "execution_count": 109,
   "metadata": {},
   "outputs": [
    {
     "name": "stdout",
     "output_type": "stream",
     "text": [
      "XGBoost test acc: 0.5708955223880597\n"
     ]
    }
   ],
   "source": [
    "print(\"XGBoost test acc: {}\".format(accuracy_score(y_test, xgb_preds)))"
   ]
  },
  {
   "cell_type": "code",
   "execution_count": 110,
   "metadata": {},
   "outputs": [
    {
     "name": "stdout",
     "output_type": "stream",
     "text": [
      "Gradient Boosting test acc: 0.5634328358208955\n"
     ]
    }
   ],
   "source": [
    "print(\"Gradient Boosting test acc: {}\".format(accuracy_score(y_test, gbc_preds)))"
   ]
  },
  {
   "cell_type": "code",
   "execution_count": 111,
   "metadata": {},
   "outputs": [
    {
     "data": {
      "text/plain": [
       "array([[137,   0],\n",
       "       [131,   0]])"
      ]
     },
     "execution_count": 111,
     "metadata": {},
     "output_type": "execute_result"
    }
   ],
   "source": [
    "confusion_matrix(y_test, svm_preds)"
   ]
  },
  {
   "cell_type": "code",
   "execution_count": 112,
   "metadata": {},
   "outputs": [
    {
     "data": {
      "text/plain": [
       "array([[81, 56],\n",
       "       [49, 82]])"
      ]
     },
     "execution_count": 112,
     "metadata": {},
     "output_type": "execute_result"
    }
   ],
   "source": [
    "confusion_matrix(y_test, gnb_preds)"
   ]
  },
  {
   "cell_type": "code",
   "execution_count": 113,
   "metadata": {},
   "outputs": [
    {
     "data": {
      "text/plain": [
       "array([[76, 61],\n",
       "       [50, 81]])"
      ]
     },
     "execution_count": 113,
     "metadata": {},
     "output_type": "execute_result"
    }
   ],
   "source": [
    "confusion_matrix(y_test, lrc_preds)"
   ]
  },
  {
   "cell_type": "code",
   "execution_count": 114,
   "metadata": {},
   "outputs": [
    {
     "data": {
      "text/plain": [
       "array([[64, 73],\n",
       "       [59, 72]])"
      ]
     },
     "execution_count": 114,
     "metadata": {},
     "output_type": "execute_result"
    }
   ],
   "source": [
    "confusion_matrix(y_test, knn_preds)"
   ]
  },
  {
   "cell_type": "code",
   "execution_count": 115,
   "metadata": {},
   "outputs": [
    {
     "data": {
      "text/plain": [
       "array([[83, 54],\n",
       "       [69, 62]])"
      ]
     },
     "execution_count": 115,
     "metadata": {},
     "output_type": "execute_result"
    }
   ],
   "source": [
    "confusion_matrix(y_test, rfc_preds)"
   ]
  },
  {
   "cell_type": "code",
   "execution_count": 116,
   "metadata": {},
   "outputs": [
    {
     "data": {
      "text/plain": [
       "array([[83, 54],\n",
       "       [61, 70]])"
      ]
     },
     "execution_count": 116,
     "metadata": {},
     "output_type": "execute_result"
    }
   ],
   "source": [
    "confusion_matrix(y_test, xgb_preds)"
   ]
  },
  {
   "cell_type": "code",
   "execution_count": 117,
   "metadata": {},
   "outputs": [
    {
     "data": {
      "text/plain": [
       "array([[74, 63],\n",
       "       [54, 77]])"
      ]
     },
     "execution_count": 117,
     "metadata": {},
     "output_type": "execute_result"
    }
   ],
   "source": [
    "confusion_matrix(y_test, gbc_preds)"
   ]
  },
  {
   "cell_type": "code",
   "execution_count": 118,
   "metadata": {},
   "outputs": [
    {
     "name": "stdout",
     "output_type": "stream",
     "text": [
      "SVM Test:\n",
      "(array([0.51119403, 0.        ]),\n",
      " array([1., 0.]),\n",
      " array([0.67654321, 0.        ]),\n",
      " array([137, 131]))\n"
     ]
    }
   ],
   "source": [
    "print(\"SVM Test:\")\n",
    "pprint.pprint(precision_recall_fscore_support(y_test, svm_preds))"
   ]
  },
  {
   "cell_type": "code",
   "execution_count": 119,
   "metadata": {},
   "outputs": [
    {
     "name": "stdout",
     "output_type": "stream",
     "text": [
      "GNB Test:\n",
      "(array([0.62307692, 0.5942029 ]),\n",
      " array([0.59124088, 0.6259542 ]),\n",
      " array([0.60674157, 0.60966543]),\n",
      " array([137, 131]))\n"
     ]
    }
   ],
   "source": [
    "print(\"GNB Test:\")\n",
    "pprint.pprint(precision_recall_fscore_support(y_test, gnb_preds))"
   ]
  },
  {
   "cell_type": "code",
   "execution_count": 120,
   "metadata": {},
   "outputs": [
    {
     "name": "stdout",
     "output_type": "stream",
     "text": [
      "LRC Test:\n",
      "(array([0.6031746 , 0.57042254]),\n",
      " array([0.55474453, 0.61832061]),\n",
      " array([0.57794677, 0.59340659]),\n",
      " array([137, 131]))\n"
     ]
    }
   ],
   "source": [
    "print(\"LRC Test:\")\n",
    "pprint.pprint(precision_recall_fscore_support(y_test, lrc_preds))"
   ]
  },
  {
   "cell_type": "code",
   "execution_count": 121,
   "metadata": {},
   "outputs": [
    {
     "name": "stdout",
     "output_type": "stream",
     "text": [
      "KNN Test:\n",
      "(array([0.5203252 , 0.49655172]),\n",
      " array([0.46715328, 0.54961832]),\n",
      " array([0.49230769, 0.52173913]),\n",
      " array([137, 131]))\n"
     ]
    }
   ],
   "source": [
    "print(\"KNN Test:\")\n",
    "pprint.pprint(precision_recall_fscore_support(y_test, knn_preds))"
   ]
  },
  {
   "cell_type": "code",
   "execution_count": 122,
   "metadata": {},
   "outputs": [
    {
     "name": "stdout",
     "output_type": "stream",
     "text": [
      "RFC Test:\n",
      "(array([0.54605263, 0.53448276]),\n",
      " array([0.60583942, 0.47328244]),\n",
      " array([0.57439446, 0.50202429]),\n",
      " array([137, 131]))\n"
     ]
    }
   ],
   "source": [
    "print(\"RFC Test:\")\n",
    "pprint.pprint(precision_recall_fscore_support(y_test, rfc_preds))"
   ]
  },
  {
   "cell_type": "code",
   "execution_count": 123,
   "metadata": {},
   "outputs": [
    {
     "name": "stdout",
     "output_type": "stream",
     "text": [
      "XGB Test:\n",
      "(array([0.57638889, 0.56451613]),\n",
      " array([0.60583942, 0.53435115]),\n",
      " array([0.59074733, 0.54901961]),\n",
      " array([137, 131]))\n"
     ]
    }
   ],
   "source": [
    "print(\"XGB Test:\")\n",
    "pprint.pprint(precision_recall_fscore_support(y_test, xgb_preds))"
   ]
  },
  {
   "cell_type": "code",
   "execution_count": 124,
   "metadata": {},
   "outputs": [
    {
     "name": "stdout",
     "output_type": "stream",
     "text": [
      "GBC Test:\n",
      "(array([0.578125, 0.55    ]),\n",
      " array([0.54014599, 0.58778626]),\n",
      " array([0.55849057, 0.56826568]),\n",
      " array([137, 131]))\n"
     ]
    }
   ],
   "source": [
    "print(\"GBC Test:\")\n",
    "pprint.pprint(precision_recall_fscore_support(y_test, gbc_preds))"
   ]
  },
  {
   "cell_type": "code",
   "execution_count": null,
   "metadata": {},
   "outputs": [],
   "source": []
  },
  {
   "cell_type": "code",
   "execution_count": null,
   "metadata": {},
   "outputs": [],
   "source": []
  },
  {
   "cell_type": "code",
   "execution_count": null,
   "metadata": {},
   "outputs": [],
   "source": []
  }
 ],
 "metadata": {
  "kernelspec": {
   "display_name": "Python 3",
   "language": "python",
   "name": "python3"
  },
  "language_info": {
   "codemirror_mode": {
    "name": "ipython",
    "version": 3
   },
   "file_extension": ".py",
   "mimetype": "text/x-python",
   "name": "python",
   "nbconvert_exporter": "python",
   "pygments_lexer": "ipython3",
   "version": "3.6.5"
  }
 },
 "nbformat": 4,
 "nbformat_minor": 2
}
