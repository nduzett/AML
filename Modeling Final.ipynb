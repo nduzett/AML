{
 "cells": [
  {
   "cell_type": "markdown",
   "metadata": {},
   "source": [
    "# Modeling\n",
    "Our classes (win versus loss) are almost perfectly balanced, meaning accuracy is a good way to see how well we've done. For completion, however, we include precision, recall, and F1. \n",
    "\n",
    "Method: Teach the machine to predict who will win given a game. Then, run the model on 2018 round 1, take those predicted wins, run the model on those games, etc. until we have an entire bracket. \n",
    "\n",
    "To Add:\n",
    "    1. Correlation Heat Map\n",
    "    2. Feature Importance Graphs given each model\n",
    "    3. Actual predictions for 2018"
   ]
  },
  {
   "cell_type": "code",
   "execution_count": 245,
   "metadata": {},
   "outputs": [],
   "source": [
    "import numpy as np\n",
    "import pandas as pd\n",
    "\n",
    "from sklearn.model_selection import cross_val_score\n",
    "from sklearn.metrics import precision_recall_fscore_support\n",
    "from sklearn.metrics import f1_score\n",
    "from sklearn.metrics import accuracy_score\n",
    "from sklearn.metrics import confusion_matrix\n",
    "from sklearn.model_selection import GridSearchCV\n",
    "import pprint\n",
    "\n",
    "# Model imports\n",
    "from sklearn.svm import LinearSVC\n",
    "from sklearn.naive_bayes import GaussianNB\n",
    "from sklearn.linear_model import LogisticRegressionCV\n",
    "from sklearn.neighbors import KNeighborsClassifier\n",
    "from sklearn.ensemble import RandomForestClassifier\n",
    "from xgboost import XGBClassifier\n",
    "from sklearn.ensemble import GradientBoostingClassifier\n",
    "\n",
    "# Suppressing warnings\n",
    "import warnings\n",
    "warnings.filterwarnings(\"ignore\")\n"
   ]
  },
  {
   "cell_type": "code",
   "execution_count": 246,
   "metadata": {},
   "outputs": [],
   "source": [
    "X = pd.read_csv(\"/Users/Neil/Desktop/X.csv\")\n",
    "y = pd.read_csv(\"/Users/Neil/Desktop/y.csv\")"
   ]
  },
  {
   "cell_type": "code",
   "execution_count": 247,
   "metadata": {},
   "outputs": [],
   "source": [
    "del X['f_Seed_region'], X['s_Seed_region'], X['WTeamID'], X['LTeamID'], X['Season']"
   ]
  },
  {
   "cell_type": "code",
   "execution_count": 248,
   "metadata": {},
   "outputs": [
    {
     "data": {
      "text/plain": [
       "(981, 44)"
      ]
     },
     "execution_count": 248,
     "metadata": {},
     "output_type": "execute_result"
    }
   ],
   "source": [
    "X.shape"
   ]
  },
  {
   "cell_type": "code",
   "execution_count": 249,
   "metadata": {},
   "outputs": [],
   "source": [
    "#Creating train and test data\n",
    "X_train = X[:713]\n",
    "y_train = y[:713]\n",
    "X_test = X[713:]\n",
    "y_test = y[713:]"
   ]
  },
  {
   "cell_type": "code",
   "execution_count": 250,
   "metadata": {},
   "outputs": [
    {
     "data": {
      "text/plain": [
       "GridSearchCV(cv=None, error_score='raise',\n",
       "       estimator=GradientBoostingClassifier(criterion='friedman_mse', init=None,\n",
       "              learning_rate=0.1, loss='deviance', max_depth=3,\n",
       "              max_features=None, max_leaf_nodes=None,\n",
       "              min_impurity_decrease=0.0, min_impurity_split=None,\n",
       "              min_samples_leaf=1, min_samples_split=2,\n",
       "              min_weight_fraction_leaf=0.0, n_estimators=100,\n",
       "              presort='auto', random_state=None, subsample=1.0, verbose=0,\n",
       "              warm_start=False),\n",
       "       fit_params=None, iid=True, n_jobs=1,\n",
       "       param_grid={'learning_rate': [0.1, 0.01, 0.001], 'n_estimators': [100, 1000, 5000], 'max_depth': [1, 2, 3]},\n",
       "       pre_dispatch='2*n_jobs', refit=True, return_train_score='warn',\n",
       "       scoring='accuracy', verbose=0)"
      ]
     },
     "execution_count": 250,
     "metadata": {},
     "output_type": "execute_result"
    }
   ],
   "source": [
    "model_svm = LinearSVC()\n",
    "model_gnb = GaussianNB()\n",
    "model_lrc = LogisticRegressionCV()\n",
    "model_knn = KNeighborsClassifier()\n",
    "model_rfc = RandomForestClassifier()\n",
    "model_xgb = XGBClassifier()\n",
    "model_gbc = GradientBoostingClassifier()\n",
    "\n",
    "model_gsc = GridSearchCV(model_gbc, {\"learning_rate\": [.1, .01, .001], \"n_estimators\": [100, 1000, 5000], \n",
    "                                'max_depth': [1, 2, 3]}, scoring='accuracy')\n",
    "\n",
    "model_svm.fit(X_train,y_train)\n",
    "model_gnb.fit(X_train,y_train)\n",
    "model_lrc.fit(X_train,y_train)\n",
    "model_knn.fit(X_train,y_train)\n",
    "model_rfc.fit(X_train,y_train)\n",
    "model_xgb.fit(X_train,y_train)\n",
    "model_gsc.fit(X_train,y_train)"
   ]
  },
  {
   "cell_type": "code",
   "execution_count": 251,
   "metadata": {},
   "outputs": [],
   "source": [
    "svm_pred = model_svm.predict(X_test)\n",
    "gnb_pred = model_gnb.predict(X_test)\n",
    "lrc_pred = model_lrc.predict(X_test)\n",
    "knn_pred = model_knn.predict(X_test)\n",
    "rfc_pred = model_rfc.predict(X_test)\n",
    "xgb_pred = model_xgb.predict(X_test)\n",
    "gsc_pred = model_gsc.predict(X_test)"
   ]
  },
  {
   "cell_type": "code",
   "execution_count": 252,
   "metadata": {},
   "outputs": [],
   "source": [
    "svm_preds = pd.DataFrame(svm_pred)\n",
    "gnb_preds = pd.DataFrame(gnb_pred)\n",
    "lrc_preds = pd.DataFrame(lrc_pred)\n",
    "knn_preds = pd.DataFrame(knn_pred)\n",
    "rfc_preds = pd.DataFrame(rfc_pred)\n",
    "xgb_preds = pd.DataFrame(xgb_pred)\n",
    "gsc_preds = pd.DataFrame(gsc_pred)"
   ]
  },
  {
   "cell_type": "code",
   "execution_count": 253,
   "metadata": {},
   "outputs": [
    {
     "name": "stdout",
     "output_type": "stream",
     "text": [
      "SVM test acc: 0.5111940298507462\n"
     ]
    }
   ],
   "source": [
    "print(\"SVM test acc: {}\".format(accuracy_score(y_test, svm_preds)))"
   ]
  },
  {
   "cell_type": "code",
   "execution_count": 254,
   "metadata": {},
   "outputs": [
    {
     "name": "stdout",
     "output_type": "stream",
     "text": [
      "Gaussian NB test acc: 0.6082089552238806\n"
     ]
    }
   ],
   "source": [
    "print(\"Gaussian NB test acc: {}\".format(accuracy_score(y_test, gnb_preds)))"
   ]
  },
  {
   "cell_type": "code",
   "execution_count": 255,
   "metadata": {},
   "outputs": [
    {
     "name": "stdout",
     "output_type": "stream",
     "text": [
      "Logistic Regression test acc: 0.585820895522388\n"
     ]
    }
   ],
   "source": [
    "print(\"Logistic Regression test acc: {}\".format(accuracy_score(y_test, lrc_preds)))"
   ]
  },
  {
   "cell_type": "code",
   "execution_count": 256,
   "metadata": {},
   "outputs": [
    {
     "name": "stdout",
     "output_type": "stream",
     "text": [
      "K-Nearest Neighbors test acc: 0.5074626865671642\n"
     ]
    }
   ],
   "source": [
    "print(\"K-Nearest Neighbors test acc: {}\".format(accuracy_score(y_test, knn_preds)))"
   ]
  },
  {
   "cell_type": "code",
   "execution_count": 257,
   "metadata": {},
   "outputs": [
    {
     "name": "stdout",
     "output_type": "stream",
     "text": [
      "Random Forest test acc: 0.5671641791044776\n"
     ]
    }
   ],
   "source": [
    "print(\"Random Forest test acc: {}\".format(accuracy_score(y_test, rfc_preds)))"
   ]
  },
  {
   "cell_type": "code",
   "execution_count": 258,
   "metadata": {},
   "outputs": [
    {
     "name": "stdout",
     "output_type": "stream",
     "text": [
      "XGBoost test acc: 0.5708955223880597\n"
     ]
    }
   ],
   "source": [
    "print(\"XGBoost test acc: {}\".format(accuracy_score(y_test, xgb_preds)))"
   ]
  },
  {
   "cell_type": "code",
   "execution_count": 259,
   "metadata": {},
   "outputs": [
    {
     "name": "stdout",
     "output_type": "stream",
     "text": [
      "Gradient Boosting test acc: 0.5746268656716418\n"
     ]
    }
   ],
   "source": [
    "print(\"Gradient Boosting test acc: {}\".format(accuracy_score(y_test, gsc_preds)))"
   ]
  },
  {
   "cell_type": "code",
   "execution_count": 260,
   "metadata": {},
   "outputs": [
    {
     "data": {
      "text/plain": [
       "array([[137,   0],\n",
       "       [131,   0]])"
      ]
     },
     "execution_count": 260,
     "metadata": {},
     "output_type": "execute_result"
    }
   ],
   "source": [
    "confusion_matrix(y_test, svm_preds)"
   ]
  },
  {
   "cell_type": "code",
   "execution_count": 261,
   "metadata": {},
   "outputs": [
    {
     "data": {
      "text/plain": [
       "array([[81, 56],\n",
       "       [49, 82]])"
      ]
     },
     "execution_count": 261,
     "metadata": {},
     "output_type": "execute_result"
    }
   ],
   "source": [
    "confusion_matrix(y_test, gnb_preds)"
   ]
  },
  {
   "cell_type": "code",
   "execution_count": 262,
   "metadata": {},
   "outputs": [
    {
     "data": {
      "text/plain": [
       "array([[76, 61],\n",
       "       [50, 81]])"
      ]
     },
     "execution_count": 262,
     "metadata": {},
     "output_type": "execute_result"
    }
   ],
   "source": [
    "confusion_matrix(y_test, lrc_preds)"
   ]
  },
  {
   "cell_type": "code",
   "execution_count": 263,
   "metadata": {},
   "outputs": [
    {
     "data": {
      "text/plain": [
       "array([[64, 73],\n",
       "       [59, 72]])"
      ]
     },
     "execution_count": 263,
     "metadata": {},
     "output_type": "execute_result"
    }
   ],
   "source": [
    "confusion_matrix(y_test, knn_preds)"
   ]
  },
  {
   "cell_type": "code",
   "execution_count": 264,
   "metadata": {},
   "outputs": [
    {
     "data": {
      "text/plain": [
       "array([[94, 43],\n",
       "       [73, 58]])"
      ]
     },
     "execution_count": 264,
     "metadata": {},
     "output_type": "execute_result"
    }
   ],
   "source": [
    "confusion_matrix(y_test, rfc_preds)"
   ]
  },
  {
   "cell_type": "code",
   "execution_count": 265,
   "metadata": {},
   "outputs": [
    {
     "data": {
      "text/plain": [
       "array([[83, 54],\n",
       "       [61, 70]])"
      ]
     },
     "execution_count": 265,
     "metadata": {},
     "output_type": "execute_result"
    }
   ],
   "source": [
    "confusion_matrix(y_test, xgb_preds)"
   ]
  },
  {
   "cell_type": "code",
   "execution_count": 266,
   "metadata": {},
   "outputs": [
    {
     "data": {
      "text/plain": [
       "array([[96, 41],\n",
       "       [73, 58]])"
      ]
     },
     "execution_count": 266,
     "metadata": {},
     "output_type": "execute_result"
    }
   ],
   "source": [
    "confusion_matrix(y_test, gsc_preds)"
   ]
  },
  {
   "cell_type": "code",
   "execution_count": 267,
   "metadata": {},
   "outputs": [
    {
     "name": "stdout",
     "output_type": "stream",
     "text": [
      "SVM Test:\n",
      "(array([0.51119403, 0.        ]),\n",
      " array([1., 0.]),\n",
      " array([0.67654321, 0.        ]),\n",
      " array([137, 131]))\n"
     ]
    }
   ],
   "source": [
    "print(\"SVM Test:\")\n",
    "pprint.pprint(precision_recall_fscore_support(y_test, svm_preds))"
   ]
  },
  {
   "cell_type": "code",
   "execution_count": 268,
   "metadata": {},
   "outputs": [
    {
     "name": "stdout",
     "output_type": "stream",
     "text": [
      "GNB Test:\n",
      "(array([0.62307692, 0.5942029 ]),\n",
      " array([0.59124088, 0.6259542 ]),\n",
      " array([0.60674157, 0.60966543]),\n",
      " array([137, 131]))\n"
     ]
    }
   ],
   "source": [
    "print(\"GNB Test:\")\n",
    "pprint.pprint(precision_recall_fscore_support(y_test, gnb_preds))"
   ]
  },
  {
   "cell_type": "code",
   "execution_count": 269,
   "metadata": {},
   "outputs": [
    {
     "name": "stdout",
     "output_type": "stream",
     "text": [
      "LRC Test:\n",
      "(array([0.6031746 , 0.57042254]),\n",
      " array([0.55474453, 0.61832061]),\n",
      " array([0.57794677, 0.59340659]),\n",
      " array([137, 131]))\n"
     ]
    }
   ],
   "source": [
    "print(\"LRC Test:\")\n",
    "pprint.pprint(precision_recall_fscore_support(y_test, lrc_preds))"
   ]
  },
  {
   "cell_type": "code",
   "execution_count": 270,
   "metadata": {},
   "outputs": [
    {
     "name": "stdout",
     "output_type": "stream",
     "text": [
      "KNN Test:\n",
      "(array([0.5203252 , 0.49655172]),\n",
      " array([0.46715328, 0.54961832]),\n",
      " array([0.49230769, 0.52173913]),\n",
      " array([137, 131]))\n"
     ]
    }
   ],
   "source": [
    "print(\"KNN Test:\")\n",
    "pprint.pprint(precision_recall_fscore_support(y_test, knn_preds))"
   ]
  },
  {
   "cell_type": "code",
   "execution_count": 271,
   "metadata": {},
   "outputs": [
    {
     "name": "stdout",
     "output_type": "stream",
     "text": [
      "RFC Test:\n",
      "(array([0.56287425, 0.57425743]),\n",
      " array([0.68613139, 0.44274809]),\n",
      " array([0.61842105, 0.5       ]),\n",
      " array([137, 131]))\n"
     ]
    }
   ],
   "source": [
    "print(\"RFC Test:\")\n",
    "pprint.pprint(precision_recall_fscore_support(y_test, rfc_preds))"
   ]
  },
  {
   "cell_type": "code",
   "execution_count": 272,
   "metadata": {},
   "outputs": [
    {
     "name": "stdout",
     "output_type": "stream",
     "text": [
      "XGB Test:\n",
      "(array([0.57638889, 0.56451613]),\n",
      " array([0.60583942, 0.53435115]),\n",
      " array([0.59074733, 0.54901961]),\n",
      " array([137, 131]))\n"
     ]
    }
   ],
   "source": [
    "print(\"XGB Test:\")\n",
    "pprint.pprint(precision_recall_fscore_support(y_test, xgb_preds))"
   ]
  },
  {
   "cell_type": "code",
   "execution_count": 273,
   "metadata": {},
   "outputs": [
    {
     "name": "stdout",
     "output_type": "stream",
     "text": [
      "GBC Test:\n",
      "(array([0.56804734, 0.58585859]),\n",
      " array([0.70072993, 0.44274809]),\n",
      " array([0.62745098, 0.50434783]),\n",
      " array([137, 131]))\n"
     ]
    }
   ],
   "source": [
    "print(\"GBC Test:\")\n",
    "pprint.pprint(precision_recall_fscore_support(y_test, gsc_preds))"
   ]
  },
  {
   "cell_type": "code",
   "execution_count": 274,
   "metadata": {},
   "outputs": [
    {
     "data": {
      "text/html": [
       "<div>\n",
       "<style scoped>\n",
       "    .dataframe tbody tr th:only-of-type {\n",
       "        vertical-align: middle;\n",
       "    }\n",
       "\n",
       "    .dataframe tbody tr th {\n",
       "        vertical-align: top;\n",
       "    }\n",
       "\n",
       "    .dataframe thead th {\n",
       "        text-align: right;\n",
       "    }\n",
       "</style>\n",
       "<table border=\"1\" class=\"dataframe\">\n",
       "  <thead>\n",
       "    <tr style=\"text-align: right;\">\n",
       "      <th></th>\n",
       "      <th>importance</th>\n",
       "    </tr>\n",
       "  </thead>\n",
       "  <tbody>\n",
       "    <tr>\n",
       "      <th>s_PF</th>\n",
       "      <td>0.046296</td>\n",
       "    </tr>\n",
       "    <tr>\n",
       "      <th>s_FTM</th>\n",
       "      <td>0.040123</td>\n",
       "    </tr>\n",
       "    <tr>\n",
       "      <th>f_FGA</th>\n",
       "      <td>0.038580</td>\n",
       "    </tr>\n",
       "    <tr>\n",
       "      <th>s_EScore</th>\n",
       "      <td>0.038580</td>\n",
       "    </tr>\n",
       "    <tr>\n",
       "      <th>LTeamElo</th>\n",
       "      <td>0.037037</td>\n",
       "    </tr>\n",
       "    <tr>\n",
       "      <th>WTeamElo</th>\n",
       "      <td>0.037037</td>\n",
       "    </tr>\n",
       "    <tr>\n",
       "      <th>s_Ast</th>\n",
       "      <td>0.033951</td>\n",
       "    </tr>\n",
       "    <tr>\n",
       "      <th>f_FGM3</th>\n",
       "      <td>0.032407</td>\n",
       "    </tr>\n",
       "    <tr>\n",
       "      <th>s_Blk</th>\n",
       "      <td>0.032407</td>\n",
       "    </tr>\n",
       "    <tr>\n",
       "      <th>f_Stl</th>\n",
       "      <td>0.029321</td>\n",
       "    </tr>\n",
       "    <tr>\n",
       "      <th>s_Stl</th>\n",
       "      <td>0.029321</td>\n",
       "    </tr>\n",
       "    <tr>\n",
       "      <th>f_Score</th>\n",
       "      <td>0.029321</td>\n",
       "    </tr>\n",
       "    <tr>\n",
       "      <th>s_FGA</th>\n",
       "      <td>0.029321</td>\n",
       "    </tr>\n",
       "    <tr>\n",
       "      <th>f_Ast</th>\n",
       "      <td>0.029321</td>\n",
       "    </tr>\n",
       "    <tr>\n",
       "      <th>f_FGM2</th>\n",
       "      <td>0.027778</td>\n",
       "    </tr>\n",
       "    <tr>\n",
       "      <th>f_FGA2</th>\n",
       "      <td>0.027778</td>\n",
       "    </tr>\n",
       "    <tr>\n",
       "      <th>f_OR</th>\n",
       "      <td>0.026235</td>\n",
       "    </tr>\n",
       "    <tr>\n",
       "      <th>f_PF</th>\n",
       "      <td>0.024691</td>\n",
       "    </tr>\n",
       "    <tr>\n",
       "      <th>f_diff</th>\n",
       "      <td>0.024691</td>\n",
       "    </tr>\n",
       "    <tr>\n",
       "      <th>s_Score</th>\n",
       "      <td>0.024691</td>\n",
       "    </tr>\n",
       "    <tr>\n",
       "      <th>f_EScore</th>\n",
       "      <td>0.021605</td>\n",
       "    </tr>\n",
       "    <tr>\n",
       "      <th>f_FTA</th>\n",
       "      <td>0.021605</td>\n",
       "    </tr>\n",
       "    <tr>\n",
       "      <th>f_TO</th>\n",
       "      <td>0.021605</td>\n",
       "    </tr>\n",
       "    <tr>\n",
       "      <th>f_rank</th>\n",
       "      <td>0.020062</td>\n",
       "    </tr>\n",
       "    <tr>\n",
       "      <th>s_TO</th>\n",
       "      <td>0.020062</td>\n",
       "    </tr>\n",
       "    <tr>\n",
       "      <th>s_DR</th>\n",
       "      <td>0.018519</td>\n",
       "    </tr>\n",
       "    <tr>\n",
       "      <th>f_coach</th>\n",
       "      <td>0.018519</td>\n",
       "    </tr>\n",
       "    <tr>\n",
       "      <th>s_FGM</th>\n",
       "      <td>0.018519</td>\n",
       "    </tr>\n",
       "    <tr>\n",
       "      <th>s_FGM2</th>\n",
       "      <td>0.016975</td>\n",
       "    </tr>\n",
       "    <tr>\n",
       "      <th>s_FTA</th>\n",
       "      <td>0.016975</td>\n",
       "    </tr>\n",
       "    <tr>\n",
       "      <th>f_FTM</th>\n",
       "      <td>0.016975</td>\n",
       "    </tr>\n",
       "    <tr>\n",
       "      <th>f_FGM</th>\n",
       "      <td>0.015432</td>\n",
       "    </tr>\n",
       "    <tr>\n",
       "      <th>s_diff</th>\n",
       "      <td>0.015432</td>\n",
       "    </tr>\n",
       "    <tr>\n",
       "      <th>s_FGM3</th>\n",
       "      <td>0.015432</td>\n",
       "    </tr>\n",
       "    <tr>\n",
       "      <th>f_FGA3</th>\n",
       "      <td>0.015432</td>\n",
       "    </tr>\n",
       "    <tr>\n",
       "      <th>s_Seed_no</th>\n",
       "      <td>0.013889</td>\n",
       "    </tr>\n",
       "    <tr>\n",
       "      <th>s_coach</th>\n",
       "      <td>0.013889</td>\n",
       "    </tr>\n",
       "    <tr>\n",
       "      <th>s_FGA2</th>\n",
       "      <td>0.012346</td>\n",
       "    </tr>\n",
       "    <tr>\n",
       "      <th>f_Blk</th>\n",
       "      <td>0.010802</td>\n",
       "    </tr>\n",
       "    <tr>\n",
       "      <th>f_DR</th>\n",
       "      <td>0.010802</td>\n",
       "    </tr>\n",
       "    <tr>\n",
       "      <th>s_FGA3</th>\n",
       "      <td>0.007716</td>\n",
       "    </tr>\n",
       "    <tr>\n",
       "      <th>f_Seed_no</th>\n",
       "      <td>0.006173</td>\n",
       "    </tr>\n",
       "    <tr>\n",
       "      <th>s_OR</th>\n",
       "      <td>0.006173</td>\n",
       "    </tr>\n",
       "    <tr>\n",
       "      <th>s_rank</th>\n",
       "      <td>0.006173</td>\n",
       "    </tr>\n",
       "  </tbody>\n",
       "</table>\n",
       "</div>"
      ],
      "text/plain": [
       "           importance\n",
       "s_PF         0.046296\n",
       "s_FTM        0.040123\n",
       "f_FGA        0.038580\n",
       "s_EScore     0.038580\n",
       "LTeamElo     0.037037\n",
       "WTeamElo     0.037037\n",
       "s_Ast        0.033951\n",
       "f_FGM3       0.032407\n",
       "s_Blk        0.032407\n",
       "f_Stl        0.029321\n",
       "s_Stl        0.029321\n",
       "f_Score      0.029321\n",
       "s_FGA        0.029321\n",
       "f_Ast        0.029321\n",
       "f_FGM2       0.027778\n",
       "f_FGA2       0.027778\n",
       "f_OR         0.026235\n",
       "f_PF         0.024691\n",
       "f_diff       0.024691\n",
       "s_Score      0.024691\n",
       "f_EScore     0.021605\n",
       "f_FTA        0.021605\n",
       "f_TO         0.021605\n",
       "f_rank       0.020062\n",
       "s_TO         0.020062\n",
       "s_DR         0.018519\n",
       "f_coach      0.018519\n",
       "s_FGM        0.018519\n",
       "s_FGM2       0.016975\n",
       "s_FTA        0.016975\n",
       "f_FTM        0.016975\n",
       "f_FGM        0.015432\n",
       "s_diff       0.015432\n",
       "s_FGM3       0.015432\n",
       "f_FGA3       0.015432\n",
       "s_Seed_no    0.013889\n",
       "s_coach      0.013889\n",
       "s_FGA2       0.012346\n",
       "f_Blk        0.010802\n",
       "f_DR         0.010802\n",
       "s_FGA3       0.007716\n",
       "f_Seed_no    0.006173\n",
       "s_OR         0.006173\n",
       "s_rank       0.006173"
      ]
     },
     "execution_count": 274,
     "metadata": {},
     "output_type": "execute_result"
    }
   ],
   "source": [
    "feature_importances = pd.DataFrame(model_xgb.feature_importances_, index = X_train.columns, \n",
    "                                   columns=['importance']).sort_values('importance', ascending=False)\n",
    "feature_importances"
   ]
  },
  {
   "cell_type": "code",
   "execution_count": 276,
   "metadata": {},
   "outputs": [
    {
     "data": {
      "text/plain": [
       "0    501\n",
       "1    480\n",
       "Name: 0, dtype: int64"
      ]
     },
     "execution_count": 276,
     "metadata": {},
     "output_type": "execute_result"
    }
   ],
   "source": [
    "y['0'].value_counts()\n"
   ]
  },
  {
   "cell_type": "code",
   "execution_count": null,
   "metadata": {},
   "outputs": [],
   "source": []
  },
  {
   "cell_type": "code",
   "execution_count": null,
   "metadata": {},
   "outputs": [],
   "source": []
  },
  {
   "cell_type": "code",
   "execution_count": null,
   "metadata": {},
   "outputs": [],
   "source": []
  },
  {
   "cell_type": "code",
   "execution_count": null,
   "metadata": {},
   "outputs": [],
   "source": []
  },
  {
   "cell_type": "code",
   "execution_count": null,
   "metadata": {},
   "outputs": [],
   "source": []
  }
 ],
 "metadata": {
  "kernelspec": {
   "display_name": "Python 3",
   "language": "python",
   "name": "python3"
  },
  "language_info": {
   "codemirror_mode": {
    "name": "ipython",
    "version": 3
   },
   "file_extension": ".py",
   "mimetype": "text/x-python",
   "name": "python",
   "nbconvert_exporter": "python",
   "pygments_lexer": "ipython3",
   "version": "3.6.5"
  }
 },
 "nbformat": 4,
 "nbformat_minor": 2
}
